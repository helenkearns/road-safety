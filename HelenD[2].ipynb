<!DOCTYPE HTML>
<html>

<head>
    
    <meta charset="utf-8">

    <title>Jupyter Server</title>
    <link id="favicon" rel="shortcut icon" type="image/x-icon" href="/static/favicon.ico?v=50afa725b5de8b00030139d09b38620224d4e7dba47c07ef0e86d4643f30c9bfe6bb7e1a4a1c561aa32834480909a4b6fe7cd1e17f7159330b6b5914bf45a880">
    <meta http-equiv="X-UA-Compatible" content="IE=edge" />
    <meta name="viewport" content="width=device-width, initial-scale=1.0">

    
<style>
.form {
    margin-left: 50px;
    margin-right: 50px;
}

.content {
    margin-left: 50px;
    margin-right: 50px;
    margin-bottom: 50px;
}
</style>

    
    
    
   
</head>

<body>
  
  <div id="site">
    

<form class="form" action="/login?next=%2Flab%2Ftree%2FDesktop%2FEBT%2FHelenD.ipynb" method="post">
    <input type="hidden" name="_xsrf" value="2|f8b777a5|9a7e83817e8939ab7d20c7c5cd86cf99|1626858217"/>
    <label for="password_input"><strong>Password or token:</strong></label>
    <input type="password" name="password" id="password_input">
    <button type="submit" id="login_submit">Log in</button>
</form>



<div class="content">
    <h3>
        Token authentication is enabled
    </h3>
    <p>
        If no password has been configured, you need to open the
        server with its login token in the URL, or paste it above.
        This requirement will be lifted if you
        <b><a href='https://jupyter-server.readthedocs.io/en/latest/operators/public-server.html'>
                enable a password</a></b>.
    </p>
    <p>
        The command:
    <pre>jupyter server list</pre>
    will show you the URLs of running servers with their tokens,
    which you can copy and paste into your browser. For example:
    </p>
    <pre>Currently running servers:
http://localhost:8888/?token=c8de56fa... :: /Users/you/notebooks
</pre>
    <p>
        or you can paste just the token value into the password field on this
        page.
    </p>
    <p>
        See
        <b><a href='https://jupyter-server.readthedocs.io/en/latest/operators/public-server.html'>
                the documentation on how to enable a password</a>
        </b>
        in place of token authentication,
        if you would like to avoid dealing with random tokens.
    </p>
    <p>
        Cookies are required for authenticated access to notebooks.
    </p>
    
    <h3>Setup a Password</h3>
    <p> You can also setup a password by entering your token and a new password
        on the fields below:</p>
    <form action="/login?next=%2Flab%2Ftree%2FDesktop%2FEBT%2FHelenD.ipynb" method="post" class="">
        <input type="hidden" name="_xsrf" value="2|f8b777a5|9a7e83817e8939ab7d20c7c5cd86cf99|1626858217"/>
        <div class="form-group">
            <label for="token_input">
                <h4>Token</h4>
            </label>
            <input type="password" name="password" id="token_input" class="form-control">
        </div>
        <div class="form-group">
            <label for="new_password_input">
                <h4>New Password</h4>
            </label>
            <input type="password" name="new_password" id="new_password_input" class="form-control" required>
        </div>
        <div class="form-group">
            <button type="submit" class="btn btn-default" id="login_new_pass_submit">Log in and set new
                password</button>
        </div>
    </form>
    
</div>


    

  </div>

  
  

</body>

</html>