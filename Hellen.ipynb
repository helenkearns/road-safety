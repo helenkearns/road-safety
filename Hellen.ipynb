{
 "cells": [
  {
   "cell_type": "code",
   "execution_count": 2,
   "id": "8d5c7763-629b-448a-8f2a-d4699ccc5d2b",
   "metadata": {},
   "outputs": [
    {
     "name": "stdout",
     "output_type": "stream",
     "text": [
      "        Date simone breathone breathtwo simtwo Status result      County  \\\n",
      "0 2019-02-07      8        44        45     21     OK     36  Co.Wicklow   \n",
      "1 2019-04-25      8        40        39     21     OK     32  Co.Wicklow   \n",
      "2 2019-04-28      8         -         -      -   S.IT      -  Co.Wicklow   \n",
      "3 2019-05-14      8       108       107     21     OK     88  Co.Wicklow   \n",
      "4 2019-06-09      8        91        89     21     OK     73  Co.Wicklow   \n",
      "\n",
      "       Time  Age Gender  \n",
      "0  13:36:00   48   Male  \n",
      "1  00:36:00   84   Male  \n",
      "2  02:43:00   75   Male  \n",
      "3  22:51:00   34   Male  \n",
      "4  18:34:00   28   Male  \n"
     ]
    }
   ],
   "source": [
    "import pandas as pd\n",
    "import matplotlib.pyplot as plt\n",
    "import seaborn as sns\n",
    "import numpy as np\n",
    "import calendar\n",
    "# importing 2019 data I uploaded the excel sheet to the side bar of jupyter lab for convenience. I printed first five lines to check I had imported what i expected.\n",
    "hel = pd.read_excel('2019 EBT.xlsx')\n",
    "print(hel.head())"
   ]
  },
  {
   "cell_type": "code",
   "execution_count": 4,
   "id": "b4254cb5-3f69-4b1a-96c2-afb4646ea492",
   "metadata": {},
   "outputs": [
    {
     "data": {
      "image/png": "[encoded data removed]",
      "text/plain": [
       "<Figure size 432x288 with 1 Axes>"
      ]
     },
     "metadata": {
      "needs_background": "light"
     },
     "output_type": "display_data"
    },
    {
     "data": {
      "text/plain": [
       "<Figure size 720x360 with 0 Axes>"
      ]
     },
     "metadata": {},
     "output_type": "display_data"
    }
   ],
   "source": [
    "# I did a quick hist plot for county to see where the most frequent arrests are made\n",
    "sns.histplot(data=hel, x='County')\n",
    "plt.xticks(rotation=90)\n",
    "fig=plt.figure(figsize=(10,5))"
   ]
  },
  {
   "cell_type": "code",
   "execution_count": 5,
   "id": "37c89648-b5bc-4abd-a472-e98a8eb478b7",
   "metadata": {},
   "outputs": [
    {
     "name": "stdout",
     "output_type": "stream",
     "text": [
      "        Date simone breathone breathtwo simtwo Status result      County  \\\n",
      "0 2019-02-07      8        44        45     21     OK     36  Co.Wicklow   \n",
      "1 2019-04-25      8        40        39     21     OK     32  Co.Wicklow   \n",
      "2 2019-04-28      8         -         -      -   S.IT      -  Co.Wicklow   \n",
      "3 2019-05-14      8       108       107     21     OK     88  Co.Wicklow   \n",
      "4 2019-06-09      8        91        89     21     OK     73  Co.Wicklow   \n",
      "\n",
      "       Time  Age Gender  \n",
      "0  13:36:00   48   Male  \n",
      "1  00:36:00   84   Male  \n",
      "2  02:43:00   75   Male  \n",
      "3  22:51:00   34   Male  \n",
      "4  18:34:00   28   Male  \n"
     ]
    }
   ],
   "source": [
    "# noticing in the head print that I had extra empty coluns in my dataframe I used the iloc to tidy up and get rid of columns as I will want to add more interesting columns as I go.\n",
    "hel1 = hel.iloc[:,[0,1,2,3,4,5,6,7,8,9,10,]]\n",
    "print(hel1.head())"
   ]
  },
  {
   "cell_type": "code",
   "execution_count": 6,
   "id": "4c4b04d2-909a-41f7-9d63-9902a19d6da9",
   "metadata": {},
   "outputs": [
    {
     "name": "stdout",
     "output_type": "stream",
     "text": [
      "        Date simone breathone breathtwo simtwo Status result      County  \\\n",
      "0 2019-02-07      8        44        45     21     OK     36  Co.Wicklow   \n",
      "1 2019-04-25      8        40        39     21     OK     32  Co.Wicklow   \n",
      "3 2019-05-14      8       108       107     21     OK     88  Co.Wicklow   \n",
      "4 2019-06-09      8        91        89     21     OK     73  Co.Wicklow   \n",
      "5 2019-06-29      8        64        62     21     OK     51  Co.Wicklow   \n",
      "\n",
      "       Time  Age Gender  \n",
      "0  13:36:00   48   Male  \n",
      "1  00:36:00   84   Male  \n",
      "3  22:51:00   34   Male  \n",
      "4  18:34:00   28   Male  \n",
      "5  00:50:00   50   Male  \n"
     ]
    }
   ],
   "source": [
    "# The OK status indicates that the breath test cycle has gone to completion so to look at the result column the staus must be ok\n",
    "helok=hel1[hel1.Status == 'OK']\n",
    "print(helok.head())"
   ]
  },
  {
   "cell_type": "code",
   "execution_count": 8,
   "id": "a559855f-ac5e-45cc-ae05-53f24fba0b93",
   "metadata": {},
   "outputs": [
    {
     "data": {
      "text/plain": [
       "OK      4724\n",
       "S.IT     437\n",
       "S.RB     101\n",
       "A.AI      31\n",
       "A.DA      27\n",
       "A.DT      18\n",
       "A.MA      17\n",
       "A.IS      10\n",
       "T.XR       5\n",
       "A.CN       1\n",
       "T.IR       1\n",
       "Name: Status, dtype: int64"
      ]
     },
     "execution_count": 8,
     "metadata": {},
     "output_type": "execute_result"
    }
   ],
   "source": [
    "status= hel['Status'].value_counts()"
   ]
  },
  {
   "cell_type": "code",
   "execution_count": 10,
   "id": "0ed0ce8f-be93-489c-a6c1-125ce57002c0",
   "metadata": {},
   "outputs": [
    {
     "data": {
      "text/plain": [
       "count    5372.000000\n",
       "mean       39.916791\n",
       "std        13.001109\n",
       "min        15.000000\n",
       "25%        30.000000\n",
       "50%        38.000000\n",
       "75%        48.000000\n",
       "max        86.000000\n",
       "Name: Age, dtype: float64"
      ]
     },
     "execution_count": 10,
     "metadata": {},
     "output_type": "execute_result"
    }
   ],
   "source": [
    "hel['Age'].describe()"
   ]
  },
  {
   "cell_type": "code",
   "execution_count": 11,
   "id": "c09c49c8-1b93-45cf-ac40-86cf5a0fcb6c",
   "metadata": {},
   "outputs": [
    {
     "data": {
      "text/plain": [
       "count    4724.000000\n",
       "mean       39.315199\n",
       "std        12.776551\n",
       "min        15.000000\n",
       "25%        30.000000\n",
       "50%        38.000000\n",
       "75%        48.000000\n",
       "max        86.000000\n",
       "Name: Age, dtype: float64"
      ]
     },
     "execution_count": 11,
     "metadata": {},
     "output_type": "execute_result"
    }
   ],
   "source": [
    "# comparing the decription of hel(all arreseted drivers brought to EBT ) with all drivers who successfully provided a breath test\n",
    "helok['Age'].describe()"
   ]
  },
  {
   "cell_type": "code",
   "execution_count": 14,
   "id": "a7f3cc5f-5c31-4306-b947-97fcdbcf3aeb",
   "metadata": {},
   "outputs": [
    {
     "data": {
      "text/plain": [
       "count     4723\n",
       "unique     137\n",
       "top          0\n",
       "freq       281\n",
       "Name: result, dtype: int64"
      ]
     },
     "execution_count": 14,
     "metadata": {},
     "output_type": "execute_result"
    }
   ],
   "source": [
    "helok['result'].describe()"
   ]
  },
  {
   "cell_type": "code",
   "execution_count": 13,
   "id": "5ce8992c-b97c-4c3c-a547-df995cc729f2",
   "metadata": {},
   "outputs": [
    {
     "data": {
      "text/plain": [
       "146"
      ]
     },
     "execution_count": 13,
     "metadata": {},
     "output_type": "execute_result"
    }
   ],
   "source": [
    "# the maximum result reported for 2019 EBT alcohol was 146ug/100ml \n",
    "helok['result'].max()"
   ]
  },
  {
   "cell_type": "code",
   "execution_count": 15,
   "id": "e4e3332e-7b87-42d6-a309-9e6a0bc38a5c",
   "metadata": {},
   "outputs": [
    {
     "data": {
      "text/html": [
       "<div>\n",
       "<style scoped>\n",
       "    .dataframe tbody tr th:only-of-type {\n",
       "        vertical-align: middle;\n",
       "    }\n",
       "\n",
       "    .dataframe tbody tr th {\n",
       "        vertical-align: top;\n",
       "    }\n",
       "\n",
       "    .dataframe thead th {\n",
       "        text-align: right;\n",
       "    }\n",
       "</style>\n",
       "<table border=\"1\" class=\"dataframe\">\n",
       "  <thead>\n",
       "    <tr style=\"text-align: right;\">\n",
       "      <th></th>\n",
       "      <th>Date</th>\n",
       "      <th>simone</th>\n",
       "      <th>breathone</th>\n",
       "      <th>breathtwo</th>\n",
       "      <th>simtwo</th>\n",
       "      <th>Status</th>\n",
       "      <th>result</th>\n",
       "      <th>County</th>\n",
       "      <th>Time</th>\n",
       "      <th>Age</th>\n",
       "      <th>Gender</th>\n",
       "    </tr>\n",
       "  </thead>\n",
       "  <tbody>\n",
       "    <tr>\n",
       "      <th>2062</th>\n",
       "      <td>2019-02-18</td>\n",
       "      <td>8</td>\n",
       "      <td>184</td>\n",
       "      <td>177</td>\n",
       "      <td>20</td>\n",
       "      <td>OK</td>\n",
       "      <td>146</td>\n",
       "      <td>Co.Waterford</td>\n",
       "      <td>13:17:00</td>\n",
       "      <td>42</td>\n",
       "      <td>Male</td>\n",
       "    </tr>\n",
       "  </tbody>\n",
       "</table>\n",
       "</div>"
      ],
      "text/plain": [
       "           Date simone breathone breathtwo simtwo Status result        County  \\\n",
       "2062 2019-02-18      8       184       177     20     OK    146  Co.Waterford   \n",
       "\n",
       "          Time  Age Gender  \n",
       "2062  13:17:00   42   Male  "
      ]
     },
     "execution_count": 15,
     "metadata": {},
     "output_type": "execute_result"
    }
   ],
   "source": [
    "# the profile of the driver who provided the highest breat h alcohol result is a male 42 year old!\n",
    "helok.loc[helok['result'] == 146]"
   ]
  },
  {
   "cell_type": "code",
   "execution_count": 16,
   "id": "f9ea8d07-6352-4764-980e-161174325495",
   "metadata": {},
   "outputs": [
    {
     "name": "stderr",
     "output_type": "stream",
     "text": [
      "<ipython-input-16-537a840f34a8>:1: FutureWarning: DataFrame.mean and DataFrame.median with numeric_only=None will include datetime64 and datetime64tz columns in a future version.\n",
      "  helok.mean()\n"
     ]
    },
    {
     "data": {
      "text/plain": [
       "simone        8.116215\n",
       "breathone    53.688400\n",
       "breathtwo    53.187553\n",
       "simtwo       21.158764\n",
       "result       42.604065\n",
       "Age          39.315199\n",
       "dtype: float64"
      ]
     },
     "execution_count": 16,
     "metadata": {},
     "output_type": "execute_result"
    }
   ],
   "source": [
    "\n",
    "helok.mean()"
   ]
  },
  {
   "cell_type": "code",
   "execution_count": 20,
   "id": "d1a1bd16-6698-48d2-9332-8cf492b177c2",
   "metadata": {},
   "outputs": [
    {
     "data": {
      "text/plain": [
       "0.32051657617967977"
      ]
     },
     "execution_count": 20,
     "metadata": {},
     "output_type": "execute_result"
    }
   ],
   "source": [
    "# the std will give me a quick quality check on the ethanol simulators standard within each test cycle.\n",
    "helok['simone'].std()"
   ]
  },
  {
   "cell_type": "code",
   "execution_count": 21,
   "id": "3d1d7f2d-b06c-437d-9df7-d2daf70d3e78",
   "metadata": {},
   "outputs": [
    {
     "data": {
      "text/plain": [
       "0.39393216332572256"
      ]
     },
     "execution_count": 21,
     "metadata": {},
     "output_type": "execute_result"
    }
   ],
   "source": [
    "helok['simtwo'].std()"
   ]
  },
  {
   "cell_type": "code",
   "execution_count": 22,
   "id": "6b7d7eab-48e1-4813-8aec-a939e81227aa",
   "metadata": {},
   "outputs": [
    {
     "name": "stderr",
     "output_type": "stream",
     "text": [
      "<ipython-input-22-d8000bbcd644>:1: FutureWarning: DataFrame.mean and DataFrame.median with numeric_only=None will include datetime64 and datetime64tz columns in a future version.\n",
      "  helok.median()\n"
     ]
    },
    {
     "data": {
      "text/plain": [
       "simone        8.0\n",
       "breathone    50.0\n",
       "breathtwo    49.0\n",
       "simtwo       21.0\n",
       "result       40.0\n",
       "Age          38.0\n",
       "dtype: float64"
      ]
     },
     "execution_count": 22,
     "metadata": {},
     "output_type": "execute_result"
    }
   ],
   "source": [
    "helok.median()"
   ]
  },
  {
   "cell_type": "code",
   "execution_count": 23,
   "id": "31f7dd3f-ea98-4bc3-8248-7c58b86efc5e",
   "metadata": {},
   "outputs": [
    {
     "name": "stdout",
     "output_type": "stream",
     "text": [
      "        Date simone breathone breathtwo simtwo Status result      County  \\\n",
      "0 2019-02-07      8        44        45     21     OK     36  Co.Wicklow   \n",
      "1 2019-04-25      8        40        39     21     OK     32  Co.Wicklow   \n",
      "2 2019-04-28      8         -         -      -   S.IT      -  Co.Wicklow   \n",
      "3 2019-05-14      8       108       107     21     OK     88  Co.Wicklow   \n",
      "4 2019-06-09      8        91        89     21     OK     73  Co.Wicklow   \n",
      "\n",
      "       Time  Age Gender  Day  \n",
      "0  13:36:00   48   Male    3  \n",
      "1  00:36:00   84   Male    3  \n",
      "2  02:43:00   75   Male    6  \n",
      "3  22:51:00   34   Male    1  \n",
      "4  18:34:00   28   Male    6  \n"
     ]
    }
   ],
   "source": [
    "# I added a column called day of the week using the date, this returns a 1- 7  1 being Monday\n",
    "hel['Day']=hel['Date'].dt.weekday\n",
    "print(hel.head())\n"
   ]
  },
  {
   "cell_type": "code",
   "execution_count": 24,
   "id": "3411f3e5-18df-48cb-b3ee-1589d200b353",
   "metadata": {},
   "outputs": [
    {
     "data": {
      "text/plain": [
       "<AxesSubplot:xlabel='Day', ylabel='Count'>"
      ]
     },
     "execution_count": 24,
     "metadata": {},
     "output_type": "execute_result"
    },
    {
     "data": {
      "image/png": "[encoded data removed]",
      "text/plain": [
       "<Figure size 432x288 with 1 Axes>"
      ]
     },
     "metadata": {
      "needs_background": "light"
     },
     "output_type": "display_data"
    }
   ],
   "source": [
    "sns.histplot(data=hel, x='Day')"
   ]
  },
  {
   "cell_type": "code",
   "execution_count": 41,
   "id": "afa86a0c-74e9-4b95-9466-03917a6bd07e",
   "metadata": {},
   "outputs": [
    {
     "name": "stdout",
     "output_type": "stream",
     "text": [
      "        Date simone breathone breathtwo simtwo Status result      County  \\\n",
      "0 2019-02-07      8        44        45     21     OK     36  Co.Wicklow   \n",
      "1 2019-04-25      8        40        39     21     OK     32  Co.Wicklow   \n",
      "2 2019-04-28      8         -         -      -   S.IT      -  Co.Wicklow   \n",
      "3 2019-05-14      8       108       107     21     OK     88  Co.Wicklow   \n",
      "4 2019-06-09      8        91        89     21     OK     73  Co.Wicklow   \n",
      "\n",
      "       Time  Age Gender  Day  Month  \n",
      "0  13:36:00   48   Male    3      2  \n",
      "1  00:36:00   84   Male    3      4  \n",
      "2  02:43:00   75   Male    6      4  \n",
      "3  22:51:00   34   Male    1      5  \n",
      "4  18:34:00   28   Male    6      6  \n"
     ]
    }
   ],
   "source": [
    "hel['Month']=hel['Date'].dt.month\n",
    "print(hel.head())"
   ]
  },
  {
   "cell_type": "code",
   "execution_count": 49,
   "id": "5d466033-af19-4079-8347-f54a84e96c93",
   "metadata": {},
   "outputs": [
    {
     "data": {
      "text/html": [
       "<div>\n",
       "<style scoped>\n",
       "    .dataframe tbody tr th:only-of-type {\n",
       "        vertical-align: middle;\n",
       "    }\n",
       "\n",
       "    .dataframe tbody tr th {\n",
       "        vertical-align: top;\n",
       "    }\n",
       "\n",
       "    .dataframe thead th {\n",
       "        text-align: right;\n",
       "    }\n",
       "</style>\n",
       "<table border=\"1\" class=\"dataframe\">\n",
       "  <thead>\n",
       "    <tr style=\"text-align: right;\">\n",
       "      <th></th>\n",
       "      <th>Date</th>\n",
       "      <th>simone</th>\n",
       "      <th>breathone</th>\n",
       "      <th>breathtwo</th>\n",
       "      <th>simtwo</th>\n",
       "      <th>Status</th>\n",
       "      <th>result</th>\n",
       "      <th>County</th>\n",
       "      <th>Time</th>\n",
       "      <th>Age</th>\n",
       "      <th>Gender</th>\n",
       "      <th>Day</th>\n",
       "      <th>Month</th>\n",
       "    </tr>\n",
       "  </thead>\n",
       "  <tbody>\n",
       "    <tr>\n",
       "      <th>0</th>\n",
       "      <td>2019-02-07</td>\n",
       "      <td>8</td>\n",
       "      <td>44</td>\n",
       "      <td>45</td>\n",
       "      <td>21</td>\n",
       "      <td>OK</td>\n",
       "      <td>36</td>\n",
       "      <td>Co.Wicklow</td>\n",
       "      <td>13:36:00</td>\n",
       "      <td>48</td>\n",
       "      <td>Male</td>\n",
       "      <td>3</td>\n",
       "      <td>2</td>\n",
       "    </tr>\n",
       "    <tr>\n",
       "      <th>1</th>\n",
       "      <td>2019-04-25</td>\n",
       "      <td>8</td>\n",
       "      <td>40</td>\n",
       "      <td>39</td>\n",
       "      <td>21</td>\n",
       "      <td>OK</td>\n",
       "      <td>32</td>\n",
       "      <td>Co.Wicklow</td>\n",
       "      <td>00:36:00</td>\n",
       "      <td>84</td>\n",
       "      <td>Male</td>\n",
       "      <td>3</td>\n",
       "      <td>4</td>\n",
       "    </tr>\n",
       "    <tr>\n",
       "      <th>2</th>\n",
       "      <td>2019-04-28</td>\n",
       "      <td>8</td>\n",
       "      <td>-</td>\n",
       "      <td>-</td>\n",
       "      <td>-</td>\n",
       "      <td>S.IT</td>\n",
       "      <td>-</td>\n",
       "      <td>Co.Wicklow</td>\n",
       "      <td>02:43:00</td>\n",
       "      <td>75</td>\n",
       "      <td>Male</td>\n",
       "      <td>6</td>\n",
       "      <td>4</td>\n",
       "    </tr>\n",
       "    <tr>\n",
       "      <th>3</th>\n",
       "      <td>2019-05-14</td>\n",
       "      <td>8</td>\n",
       "      <td>108</td>\n",
       "      <td>107</td>\n",
       "      <td>21</td>\n",
       "      <td>OK</td>\n",
       "      <td>88</td>\n",
       "      <td>Co.Wicklow</td>\n",
       "      <td>22:51:00</td>\n",
       "      <td>34</td>\n",
       "      <td>Male</td>\n",
       "      <td>1</td>\n",
       "      <td>5</td>\n",
       "    </tr>\n",
       "    <tr>\n",
       "      <th>4</th>\n",
       "      <td>2019-06-09</td>\n",
       "      <td>8</td>\n",
       "      <td>91</td>\n",
       "      <td>89</td>\n",
       "      <td>21</td>\n",
       "      <td>OK</td>\n",
       "      <td>73</td>\n",
       "      <td>Co.Wicklow</td>\n",
       "      <td>18:34:00</td>\n",
       "      <td>28</td>\n",
       "      <td>Male</td>\n",
       "      <td>6</td>\n",
       "      <td>6</td>\n",
       "    </tr>\n",
       "    <tr>\n",
       "      <th>...</th>\n",
       "      <td>...</td>\n",
       "      <td>...</td>\n",
       "      <td>...</td>\n",
       "      <td>...</td>\n",
       "      <td>...</td>\n",
       "      <td>...</td>\n",
       "      <td>...</td>\n",
       "      <td>...</td>\n",
       "      <td>...</td>\n",
       "      <td>...</td>\n",
       "      <td>...</td>\n",
       "      <td>...</td>\n",
       "      <td>...</td>\n",
       "    </tr>\n",
       "    <tr>\n",
       "      <th>5367</th>\n",
       "      <td>2019-10-20</td>\n",
       "      <td>8</td>\n",
       "      <td>100</td>\n",
       "      <td>102</td>\n",
       "      <td>20</td>\n",
       "      <td>OK</td>\n",
       "      <td>82</td>\n",
       "      <td>Co.Wicklow</td>\n",
       "      <td>02:03:00</td>\n",
       "      <td>50</td>\n",
       "      <td>Male</td>\n",
       "      <td>6</td>\n",
       "      <td>10</td>\n",
       "    </tr>\n",
       "    <tr>\n",
       "      <th>5368</th>\n",
       "      <td>2019-11-07</td>\n",
       "      <td>8</td>\n",
       "      <td>26</td>\n",
       "      <td>27</td>\n",
       "      <td>20</td>\n",
       "      <td>OK</td>\n",
       "      <td>21</td>\n",
       "      <td>Co.Wicklow</td>\n",
       "      <td>00:26:00</td>\n",
       "      <td>64</td>\n",
       "      <td>Female</td>\n",
       "      <td>3</td>\n",
       "      <td>11</td>\n",
       "    </tr>\n",
       "    <tr>\n",
       "      <th>5369</th>\n",
       "      <td>2019-11-08</td>\n",
       "      <td>8</td>\n",
       "      <td>31</td>\n",
       "      <td>28</td>\n",
       "      <td>21</td>\n",
       "      <td>OK</td>\n",
       "      <td>23</td>\n",
       "      <td>Co.Wicklow</td>\n",
       "      <td>21:07:00</td>\n",
       "      <td>33</td>\n",
       "      <td>Male</td>\n",
       "      <td>4</td>\n",
       "      <td>11</td>\n",
       "    </tr>\n",
       "    <tr>\n",
       "      <th>5370</th>\n",
       "      <td>2019-12-13</td>\n",
       "      <td>8</td>\n",
       "      <td>135</td>\n",
       "      <td>132</td>\n",
       "      <td>20</td>\n",
       "      <td>OK</td>\n",
       "      <td>108</td>\n",
       "      <td>Co.Wicklow</td>\n",
       "      <td>21:31:00</td>\n",
       "      <td>40</td>\n",
       "      <td>Male</td>\n",
       "      <td>4</td>\n",
       "      <td>12</td>\n",
       "    </tr>\n",
       "    <tr>\n",
       "      <th>5371</th>\n",
       "      <td>2019-12-21</td>\n",
       "      <td>8</td>\n",
       "      <td>89</td>\n",
       "      <td>86</td>\n",
       "      <td>20</td>\n",
       "      <td>OK</td>\n",
       "      <td>70</td>\n",
       "      <td>Co.Wicklow</td>\n",
       "      <td>02:27:00</td>\n",
       "      <td>23</td>\n",
       "      <td>Male</td>\n",
       "      <td>5</td>\n",
       "      <td>12</td>\n",
       "    </tr>\n",
       "  </tbody>\n",
       "</table>\n",
       "<p>5371 rows × 13 columns</p>\n",
       "</div>"
      ],
      "text/plain": [
       "           Date simone breathone breathtwo simtwo Status result      County  \\\n",
       "0    2019-02-07      8        44        45     21     OK     36  Co.Wicklow   \n",
       "1    2019-04-25      8        40        39     21     OK     32  Co.Wicklow   \n",
       "2    2019-04-28      8         -         -      -   S.IT      -  Co.Wicklow   \n",
       "3    2019-05-14      8       108       107     21     OK     88  Co.Wicklow   \n",
       "4    2019-06-09      8        91        89     21     OK     73  Co.Wicklow   \n",
       "...         ...    ...       ...       ...    ...    ...    ...         ...   \n",
       "5367 2019-10-20      8       100       102     20     OK     82  Co.Wicklow   \n",
       "5368 2019-11-07      8        26        27     20     OK     21  Co.Wicklow   \n",
       "5369 2019-11-08      8        31        28     21     OK     23  Co.Wicklow   \n",
       "5370 2019-12-13      8       135       132     20     OK    108  Co.Wicklow   \n",
       "5371 2019-12-21      8        89        86     20     OK     70  Co.Wicklow   \n",
       "\n",
       "          Time  Age  Gender  Day  Month  \n",
       "0     13:36:00   48    Male    3      2  \n",
       "1     00:36:00   84    Male    3      4  \n",
       "2     02:43:00   75    Male    6      4  \n",
       "3     22:51:00   34    Male    1      5  \n",
       "4     18:34:00   28    Male    6      6  \n",
       "...        ...  ...     ...  ...    ...  \n",
       "5367  02:03:00   50    Male    6     10  \n",
       "5368  00:26:00   64  Female    3     11  \n",
       "5369  21:07:00   33    Male    4     11  \n",
       "5370  21:31:00   40    Male    4     12  \n",
       "5371  02:27:00   23    Male    5     12  \n",
       "\n",
       "[5371 rows x 13 columns]"
      ]
     },
     "execution_count": 49,
     "metadata": {},
     "output_type": "execute_result"
    }
   ],
   "source": [
    "hel.dropna()"
   ]
  },
  {
   "cell_type": "code",
   "execution_count": 52,
   "id": "951c03c3-a181-4fc0-8fcb-6a3cb2f9fc95",
   "metadata": {},
   "outputs": [
    {
     "data": {
      "image/png": "[encoded data removed]",
      "text/plain": [
       "<Figure size 432x288 with 1 Axes>"
      ]
     },
     "metadata": {
      "needs_background": "light"
     },
     "output_type": "display_data"
    }
   ],
   "source": [
    "sns.histplot(data=hel, x='Month')\n",
    "plt.show()"
   ]
  },
  {
   "cell_type": "code",
   "execution_count": 55,
   "id": "a9fd60e8-b843-4d25-9ced-b00a4fa77cc2",
   "metadata": {},
   "outputs": [
    {
     "data": {
      "text/plain": [
       "<AxesSubplot:xlabel='Day', ylabel='Count'>"
      ]
     },
     "execution_count": 55,
     "metadata": {},
     "output_type": "execute_result"
    },
    {
     "data": {
      "image/png": "[encoded data removed]",
      "text/plain": [
       "<Figure size 432x288 with 1 Axes>"
      ]
     },
     "metadata": {
      "needs_background": "light"
     },
     "output_type": "display_data"
    }
   ],
   "source": [
    "sns.histplot(data=hel, x='Day')"
   ]
  },
  {
   "cell_type": "code",
   "execution_count": 1,
   "id": "54a3d8a2-4d4c-44ac-aaa4-72de41c15f33",
   "metadata": {},
   "outputs": [
    {
     "ename": "NameError",
     "evalue": "name 'helok' is not defined",
     "output_type": "error",
     "traceback": [
      "\u001b[1;31m---------------------------------------------------------------------------\u001b[0m",
      "\u001b[1;31mNameError\u001b[0m                                 Traceback (most recent call last)",
      "\u001b[1;32m<ipython-input-1-145e2f7f16d8>\u001b[0m in \u001b[0;36m<module>\u001b[1;34m\u001b[0m\n\u001b[0;32m      1\u001b[0m \u001b[0mLeinster\u001b[0m \u001b[1;33m=\u001b[0m\u001b[1;33m[\u001b[0m \u001b[1;34m\"Co.Wicklow\"\u001b[0m\u001b[1;33m,\u001b[0m\u001b[1;34m\"Co.Dublin\"\u001b[0m\u001b[1;33m,\u001b[0m\u001b[1;34m\"Co.Meath\"\u001b[0m\u001b[1;33m]\u001b[0m\u001b[1;33m\u001b[0m\u001b[1;33m\u001b[0m\u001b[0m\n\u001b[1;32m----> 2\u001b[1;33m \u001b[0mProvince\u001b[0m \u001b[1;33m=\u001b[0m \u001b[0mhelok\u001b[0m\u001b[1;33m[\u001b[0m\u001b[1;34m'County'\u001b[0m\u001b[1;33m]\u001b[0m\u001b[1;33m.\u001b[0m\u001b[0misin\u001b[0m\u001b[1;33m(\u001b[0m\u001b[0mLeinster\u001b[0m\u001b[1;33m)\u001b[0m\u001b[1;33m\u001b[0m\u001b[1;33m\u001b[0m\u001b[0m\n\u001b[0m\u001b[0;32m      3\u001b[0m \u001b[0mhel\u001b[0m\u001b[1;33m[\u001b[0m\u001b[0mProvince\u001b[0m\u001b[1;33m]\u001b[0m\u001b[1;33m\u001b[0m\u001b[1;33m\u001b[0m\u001b[0m\n",
      "\u001b[1;31mNameError\u001b[0m: name 'helok' is not defined"
     ]
    }
   ],
   "source": [
    "Leinster =[ \"Co.Wicklow\",\"Co.Dublin\",\"Co.Meath\"]\n",
    "Province = hel['County'].isin(Leinster)\n",
    "hel[Province]"
   ]
  },
  {
   "cell_type": "code",
   "execution_count": 2,
   "id": "bd058dc3-6105-45e5-bdc7-4b9dc9d4d007",
   "metadata": {},
   "outputs": [
    {
     "ename": "NameError",
     "evalue": "name 'hel' is not defined",
     "output_type": "error",
     "traceback": [
      "\u001b[1;31m---------------------------------------------------------------------------\u001b[0m",
      "\u001b[1;31mNameError\u001b[0m                                 Traceback (most recent call last)",
      "\u001b[1;32m<ipython-input-2-8fc88f18f8af>\u001b[0m in \u001b[0;36m<module>\u001b[1;34m\u001b[0m\n\u001b[0;32m      1\u001b[0m \u001b[0mLeinster\u001b[0m \u001b[1;33m=\u001b[0m\u001b[1;33m[\u001b[0m \u001b[1;34m\"Co.Wicklow\"\u001b[0m\u001b[1;33m,\u001b[0m\u001b[1;34m\"Co.Dublin\"\u001b[0m\u001b[1;33m,\u001b[0m\u001b[1;34m\"Co.Meath\"\u001b[0m\u001b[1;33m]\u001b[0m\u001b[1;33m\u001b[0m\u001b[1;33m\u001b[0m\u001b[0m\n\u001b[1;32m----> 2\u001b[1;33m \u001b[0mProvince\u001b[0m \u001b[1;33m=\u001b[0m \u001b[0mhel\u001b[0m\u001b[1;33m[\u001b[0m\u001b[1;34m'County'\u001b[0m\u001b[1;33m]\u001b[0m\u001b[1;33m.\u001b[0m\u001b[0misin\u001b[0m\u001b[1;33m(\u001b[0m\u001b[0mLeinster\u001b[0m\u001b[1;33m)\u001b[0m\u001b[1;33m\u001b[0m\u001b[1;33m\u001b[0m\u001b[0m\n\u001b[0m\u001b[0;32m      3\u001b[0m \u001b[0mhel\u001b[0m\u001b[1;33m[\u001b[0m\u001b[0mProvince\u001b[0m\u001b[1;33m]\u001b[0m\u001b[1;33m\u001b[0m\u001b[1;33m\u001b[0m\u001b[0m\n",
      "\u001b[1;31mNameError\u001b[0m: name 'hel' is not defined"
     ]
    }
   ],
   "source": [
    "Leinster =[ \"Co.Wicklow\",\"Co.Dublin\",\"Co.Meath\"]\n",
    "Province = hel['County'].isin(Leinster)\n",
    "hel[Province]"
   ]
  },
  {
   "cell_type": "code",
   "execution_count": 3,
   "id": "e70305b4-5755-4152-b4e4-1d45b7164eff",
   "metadata": {},
   "outputs": [
    {
     "name": "stdout",
     "output_type": "stream",
     "text": [
      "        Date simone breathone breathtwo simtwo Status result      County  \\\n",
      "0 2019-02-07      8        44        45     21     OK     36  Co.Wicklow   \n",
      "1 2019-04-25      8        40        39     21     OK     32  Co.Wicklow   \n",
      "2 2019-04-28      8         -         -      -   S.IT      -  Co.Wicklow   \n",
      "3 2019-05-14      8       108       107     21     OK     88  Co.Wicklow   \n",
      "4 2019-06-09      8        91        89     21     OK     73  Co.Wicklow   \n",
      "\n",
      "       Time  Age Gender  \n",
      "0  13:36:00   48   Male  \n",
      "1  00:36:00   84   Male  \n",
      "2  02:43:00   75   Male  \n",
      "3  22:51:00   34   Male  \n",
      "4  18:34:00   28   Male  \n"
     ]
    }
   ],
   "source": [
    "import pandas as pd\n",
    "import matplotlib.pyplot as plt\n",
    "import seaborn as sns\n",
    "import numpy as np\n",
    "import calendar\n",
    "# importing 2019 data I uploaded the excel sheet to the side bar of jupyter lab for convenience. I printed first five lines to check I had imported what i expected.\n",
    "hel = pd.read_excel('2019 EBT.xlsx')\n",
    "print(hel.head())"
   ]
  },
  {
   "cell_type": "code",
   "execution_count": 4,
   "id": "9599048d-af5a-4244-8cb6-1b8a9a745dbf",
   "metadata": {},
   "outputs": [
    {
     "data": {
      "text/html": [
       "<div>\n",
       "<style scoped>\n",
       "    .dataframe tbody tr th:only-of-type {\n",
       "        vertical-align: middle;\n",
       "    }\n",
       "\n",
       "    .dataframe tbody tr th {\n",
       "        vertical-align: top;\n",
       "    }\n",
       "\n",
       "    .dataframe thead th {\n",
       "        text-align: right;\n",
       "    }\n",
       "</style>\n",
       "<table border=\"1\" class=\"dataframe\">\n",
       "  <thead>\n",
       "    <tr style=\"text-align: right;\">\n",
       "      <th></th>\n",
       "      <th>Date</th>\n",
       "      <th>simone</th>\n",
       "      <th>breathone</th>\n",
       "      <th>breathtwo</th>\n",
       "      <th>simtwo</th>\n",
       "      <th>Status</th>\n",
       "      <th>result</th>\n",
       "      <th>County</th>\n",
       "      <th>Time</th>\n",
       "      <th>Age</th>\n",
       "      <th>Gender</th>\n",
       "    </tr>\n",
       "  </thead>\n",
       "  <tbody>\n",
       "    <tr>\n",
       "      <th>0</th>\n",
       "      <td>2019-02-07</td>\n",
       "      <td>8</td>\n",
       "      <td>44</td>\n",
       "      <td>45</td>\n",
       "      <td>21</td>\n",
       "      <td>OK</td>\n",
       "      <td>36</td>\n",
       "      <td>Co.Wicklow</td>\n",
       "      <td>13:36:00</td>\n",
       "      <td>48</td>\n",
       "      <td>Male</td>\n",
       "    </tr>\n",
       "    <tr>\n",
       "      <th>1</th>\n",
       "      <td>2019-04-25</td>\n",
       "      <td>8</td>\n",
       "      <td>40</td>\n",
       "      <td>39</td>\n",
       "      <td>21</td>\n",
       "      <td>OK</td>\n",
       "      <td>32</td>\n",
       "      <td>Co.Wicklow</td>\n",
       "      <td>00:36:00</td>\n",
       "      <td>84</td>\n",
       "      <td>Male</td>\n",
       "    </tr>\n",
       "    <tr>\n",
       "      <th>2</th>\n",
       "      <td>2019-04-28</td>\n",
       "      <td>8</td>\n",
       "      <td>-</td>\n",
       "      <td>-</td>\n",
       "      <td>-</td>\n",
       "      <td>S.IT</td>\n",
       "      <td>-</td>\n",
       "      <td>Co.Wicklow</td>\n",
       "      <td>02:43:00</td>\n",
       "      <td>75</td>\n",
       "      <td>Male</td>\n",
       "    </tr>\n",
       "    <tr>\n",
       "      <th>3</th>\n",
       "      <td>2019-05-14</td>\n",
       "      <td>8</td>\n",
       "      <td>108</td>\n",
       "      <td>107</td>\n",
       "      <td>21</td>\n",
       "      <td>OK</td>\n",
       "      <td>88</td>\n",
       "      <td>Co.Wicklow</td>\n",
       "      <td>22:51:00</td>\n",
       "      <td>34</td>\n",
       "      <td>Male</td>\n",
       "    </tr>\n",
       "    <tr>\n",
       "      <th>4</th>\n",
       "      <td>2019-06-09</td>\n",
       "      <td>8</td>\n",
       "      <td>91</td>\n",
       "      <td>89</td>\n",
       "      <td>21</td>\n",
       "      <td>OK</td>\n",
       "      <td>73</td>\n",
       "      <td>Co.Wicklow</td>\n",
       "      <td>18:34:00</td>\n",
       "      <td>28</td>\n",
       "      <td>Male</td>\n",
       "    </tr>\n",
       "    <tr>\n",
       "      <th>...</th>\n",
       "      <td>...</td>\n",
       "      <td>...</td>\n",
       "      <td>...</td>\n",
       "      <td>...</td>\n",
       "      <td>...</td>\n",
       "      <td>...</td>\n",
       "      <td>...</td>\n",
       "      <td>...</td>\n",
       "      <td>...</td>\n",
       "      <td>...</td>\n",
       "      <td>...</td>\n",
       "    </tr>\n",
       "    <tr>\n",
       "      <th>5367</th>\n",
       "      <td>2019-10-20</td>\n",
       "      <td>8</td>\n",
       "      <td>100</td>\n",
       "      <td>102</td>\n",
       "      <td>20</td>\n",
       "      <td>OK</td>\n",
       "      <td>82</td>\n",
       "      <td>Co.Wicklow</td>\n",
       "      <td>02:03:00</td>\n",
       "      <td>50</td>\n",
       "      <td>Male</td>\n",
       "    </tr>\n",
       "    <tr>\n",
       "      <th>5368</th>\n",
       "      <td>2019-11-07</td>\n",
       "      <td>8</td>\n",
       "      <td>26</td>\n",
       "      <td>27</td>\n",
       "      <td>20</td>\n",
       "      <td>OK</td>\n",
       "      <td>21</td>\n",
       "      <td>Co.Wicklow</td>\n",
       "      <td>00:26:00</td>\n",
       "      <td>64</td>\n",
       "      <td>Female</td>\n",
       "    </tr>\n",
       "    <tr>\n",
       "      <th>5369</th>\n",
       "      <td>2019-11-08</td>\n",
       "      <td>8</td>\n",
       "      <td>31</td>\n",
       "      <td>28</td>\n",
       "      <td>21</td>\n",
       "      <td>OK</td>\n",
       "      <td>23</td>\n",
       "      <td>Co.Wicklow</td>\n",
       "      <td>21:07:00</td>\n",
       "      <td>33</td>\n",
       "      <td>Male</td>\n",
       "    </tr>\n",
       "    <tr>\n",
       "      <th>5370</th>\n",
       "      <td>2019-12-13</td>\n",
       "      <td>8</td>\n",
       "      <td>135</td>\n",
       "      <td>132</td>\n",
       "      <td>20</td>\n",
       "      <td>OK</td>\n",
       "      <td>108</td>\n",
       "      <td>Co.Wicklow</td>\n",
       "      <td>21:31:00</td>\n",
       "      <td>40</td>\n",
       "      <td>Male</td>\n",
       "    </tr>\n",
       "    <tr>\n",
       "      <th>5371</th>\n",
       "      <td>2019-12-21</td>\n",
       "      <td>8</td>\n",
       "      <td>89</td>\n",
       "      <td>86</td>\n",
       "      <td>20</td>\n",
       "      <td>OK</td>\n",
       "      <td>70</td>\n",
       "      <td>Co.Wicklow</td>\n",
       "      <td>02:27:00</td>\n",
       "      <td>23</td>\n",
       "      <td>Male</td>\n",
       "    </tr>\n",
       "  </tbody>\n",
       "</table>\n",
       "<p>1286 rows × 11 columns</p>\n",
       "</div>"
      ],
      "text/plain": [
       "           Date simone breathone breathtwo simtwo Status result      County  \\\n",
       "0    2019-02-07      8        44        45     21     OK     36  Co.Wicklow   \n",
       "1    2019-04-25      8        40        39     21     OK     32  Co.Wicklow   \n",
       "2    2019-04-28      8         -         -      -   S.IT      -  Co.Wicklow   \n",
       "3    2019-05-14      8       108       107     21     OK     88  Co.Wicklow   \n",
       "4    2019-06-09      8        91        89     21     OK     73  Co.Wicklow   \n",
       "...         ...    ...       ...       ...    ...    ...    ...         ...   \n",
       "5367 2019-10-20      8       100       102     20     OK     82  Co.Wicklow   \n",
       "5368 2019-11-07      8        26        27     20     OK     21  Co.Wicklow   \n",
       "5369 2019-11-08      8        31        28     21     OK     23  Co.Wicklow   \n",
       "5370 2019-12-13      8       135       132     20     OK    108  Co.Wicklow   \n",
       "5371 2019-12-21      8        89        86     20     OK     70  Co.Wicklow   \n",
       "\n",
       "          Time  Age  Gender  \n",
       "0     13:36:00   48    Male  \n",
       "1     00:36:00   84    Male  \n",
       "2     02:43:00   75    Male  \n",
       "3     22:51:00   34    Male  \n",
       "4     18:34:00   28    Male  \n",
       "...        ...  ...     ...  \n",
       "5367  02:03:00   50    Male  \n",
       "5368  00:26:00   64  Female  \n",
       "5369  21:07:00   33    Male  \n",
       "5370  21:31:00   40    Male  \n",
       "5371  02:27:00   23    Male  \n",
       "\n",
       "[1286 rows x 11 columns]"
      ]
     },
     "execution_count": 4,
     "metadata": {},
     "output_type": "execute_result"
    }
   ],
   "source": [
    "Leinster =[ \"Co.Wicklow\",\"Co.Dublin\",\"Co.Meath\"]\n",
    "Province = hel['County'].isin(Leinster)\n",
    "hel[Province]"
   ]
  },
  {
   "cell_type": "code",
   "execution_count": 5,
   "id": "85180642-d9ca-43a6-82b0-f9ca0ee21d14",
   "metadata": {},
   "outputs": [
    {
     "data": {
      "text/html": [
       "<div>\n",
       "<style scoped>\n",
       "    .dataframe tbody tr th:only-of-type {\n",
       "        vertical-align: middle;\n",
       "    }\n",
       "\n",
       "    .dataframe tbody tr th {\n",
       "        vertical-align: top;\n",
       "    }\n",
       "\n",
       "    .dataframe thead th {\n",
       "        text-align: right;\n",
       "    }\n",
       "</style>\n",
       "<table border=\"1\" class=\"dataframe\">\n",
       "  <thead>\n",
       "    <tr style=\"text-align: right;\">\n",
       "      <th></th>\n",
       "      <th>Date</th>\n",
       "      <th>simone</th>\n",
       "      <th>breathone</th>\n",
       "      <th>breathtwo</th>\n",
       "      <th>simtwo</th>\n",
       "      <th>Status</th>\n",
       "      <th>result</th>\n",
       "      <th>County</th>\n",
       "      <th>Time</th>\n",
       "      <th>Age</th>\n",
       "      <th>Gender</th>\n",
       "    </tr>\n",
       "  </thead>\n",
       "  <tbody>\n",
       "    <tr>\n",
       "      <th>0</th>\n",
       "      <td>2019-02-07</td>\n",
       "      <td>8</td>\n",
       "      <td>44</td>\n",
       "      <td>45</td>\n",
       "      <td>21</td>\n",
       "      <td>OK</td>\n",
       "      <td>36</td>\n",
       "      <td>Co.Wicklow</td>\n",
       "      <td>13:36:00</td>\n",
       "      <td>48</td>\n",
       "      <td>Male</td>\n",
       "    </tr>\n",
       "    <tr>\n",
       "      <th>1</th>\n",
       "      <td>2019-04-25</td>\n",
       "      <td>8</td>\n",
       "      <td>40</td>\n",
       "      <td>39</td>\n",
       "      <td>21</td>\n",
       "      <td>OK</td>\n",
       "      <td>32</td>\n",
       "      <td>Co.Wicklow</td>\n",
       "      <td>00:36:00</td>\n",
       "      <td>84</td>\n",
       "      <td>Male</td>\n",
       "    </tr>\n",
       "    <tr>\n",
       "      <th>2</th>\n",
       "      <td>2019-04-28</td>\n",
       "      <td>8</td>\n",
       "      <td>-</td>\n",
       "      <td>-</td>\n",
       "      <td>-</td>\n",
       "      <td>S.IT</td>\n",
       "      <td>-</td>\n",
       "      <td>Co.Wicklow</td>\n",
       "      <td>02:43:00</td>\n",
       "      <td>75</td>\n",
       "      <td>Male</td>\n",
       "    </tr>\n",
       "    <tr>\n",
       "      <th>3</th>\n",
       "      <td>2019-05-14</td>\n",
       "      <td>8</td>\n",
       "      <td>108</td>\n",
       "      <td>107</td>\n",
       "      <td>21</td>\n",
       "      <td>OK</td>\n",
       "      <td>88</td>\n",
       "      <td>Co.Wicklow</td>\n",
       "      <td>22:51:00</td>\n",
       "      <td>34</td>\n",
       "      <td>Male</td>\n",
       "    </tr>\n",
       "    <tr>\n",
       "      <th>4</th>\n",
       "      <td>2019-06-09</td>\n",
       "      <td>8</td>\n",
       "      <td>91</td>\n",
       "      <td>89</td>\n",
       "      <td>21</td>\n",
       "      <td>OK</td>\n",
       "      <td>73</td>\n",
       "      <td>Co.Wicklow</td>\n",
       "      <td>18:34:00</td>\n",
       "      <td>28</td>\n",
       "      <td>Male</td>\n",
       "    </tr>\n",
       "    <tr>\n",
       "      <th>...</th>\n",
       "      <td>...</td>\n",
       "      <td>...</td>\n",
       "      <td>...</td>\n",
       "      <td>...</td>\n",
       "      <td>...</td>\n",
       "      <td>...</td>\n",
       "      <td>...</td>\n",
       "      <td>...</td>\n",
       "      <td>...</td>\n",
       "      <td>...</td>\n",
       "      <td>...</td>\n",
       "    </tr>\n",
       "    <tr>\n",
       "      <th>5367</th>\n",
       "      <td>2019-10-20</td>\n",
       "      <td>8</td>\n",
       "      <td>100</td>\n",
       "      <td>102</td>\n",
       "      <td>20</td>\n",
       "      <td>OK</td>\n",
       "      <td>82</td>\n",
       "      <td>Co.Wicklow</td>\n",
       "      <td>02:03:00</td>\n",
       "      <td>50</td>\n",
       "      <td>Male</td>\n",
       "    </tr>\n",
       "    <tr>\n",
       "      <th>5368</th>\n",
       "      <td>2019-11-07</td>\n",
       "      <td>8</td>\n",
       "      <td>26</td>\n",
       "      <td>27</td>\n",
       "      <td>20</td>\n",
       "      <td>OK</td>\n",
       "      <td>21</td>\n",
       "      <td>Co.Wicklow</td>\n",
       "      <td>00:26:00</td>\n",
       "      <td>64</td>\n",
       "      <td>Female</td>\n",
       "    </tr>\n",
       "    <tr>\n",
       "      <th>5369</th>\n",
       "      <td>2019-11-08</td>\n",
       "      <td>8</td>\n",
       "      <td>31</td>\n",
       "      <td>28</td>\n",
       "      <td>21</td>\n",
       "      <td>OK</td>\n",
       "      <td>23</td>\n",
       "      <td>Co.Wicklow</td>\n",
       "      <td>21:07:00</td>\n",
       "      <td>33</td>\n",
       "      <td>Male</td>\n",
       "    </tr>\n",
       "    <tr>\n",
       "      <th>5370</th>\n",
       "      <td>2019-12-13</td>\n",
       "      <td>8</td>\n",
       "      <td>135</td>\n",
       "      <td>132</td>\n",
       "      <td>20</td>\n",
       "      <td>OK</td>\n",
       "      <td>108</td>\n",
       "      <td>Co.Wicklow</td>\n",
       "      <td>21:31:00</td>\n",
       "      <td>40</td>\n",
       "      <td>Male</td>\n",
       "    </tr>\n",
       "    <tr>\n",
       "      <th>5371</th>\n",
       "      <td>2019-12-21</td>\n",
       "      <td>8</td>\n",
       "      <td>89</td>\n",
       "      <td>86</td>\n",
       "      <td>20</td>\n",
       "      <td>OK</td>\n",
       "      <td>70</td>\n",
       "      <td>Co.Wicklow</td>\n",
       "      <td>02:27:00</td>\n",
       "      <td>23</td>\n",
       "      <td>Male</td>\n",
       "    </tr>\n",
       "  </tbody>\n",
       "</table>\n",
       "<p>1568 rows × 11 columns</p>\n",
       "</div>"
      ],
      "text/plain": [
       "           Date simone breathone breathtwo simtwo Status result      County  \\\n",
       "0    2019-02-07      8        44        45     21     OK     36  Co.Wicklow   \n",
       "1    2019-04-25      8        40        39     21     OK     32  Co.Wicklow   \n",
       "2    2019-04-28      8         -         -      -   S.IT      -  Co.Wicklow   \n",
       "3    2019-05-14      8       108       107     21     OK     88  Co.Wicklow   \n",
       "4    2019-06-09      8        91        89     21     OK     73  Co.Wicklow   \n",
       "...         ...    ...       ...       ...    ...    ...    ...         ...   \n",
       "5367 2019-10-20      8       100       102     20     OK     82  Co.Wicklow   \n",
       "5368 2019-11-07      8        26        27     20     OK     21  Co.Wicklow   \n",
       "5369 2019-11-08      8        31        28     21     OK     23  Co.Wicklow   \n",
       "5370 2019-12-13      8       135       132     20     OK    108  Co.Wicklow   \n",
       "5371 2019-12-21      8        89        86     20     OK     70  Co.Wicklow   \n",
       "\n",
       "          Time  Age  Gender  \n",
       "0     13:36:00   48    Male  \n",
       "1     00:36:00   84    Male  \n",
       "2     02:43:00   75    Male  \n",
       "3     22:51:00   34    Male  \n",
       "4     18:34:00   28    Male  \n",
       "...        ...  ...     ...  \n",
       "5367  02:03:00   50    Male  \n",
       "5368  00:26:00   64  Female  \n",
       "5369  21:07:00   33    Male  \n",
       "5370  21:31:00   40    Male  \n",
       "5371  02:27:00   23    Male  \n",
       "\n",
       "[1568 rows x 11 columns]"
      ]
     },
     "execution_count": 5,
     "metadata": {},
     "output_type": "execute_result"
    }
   ],
   "source": [
    "Leinster =[ \"Co.Wicklow\",\"Co.Dublin\",\"Co.Meath\",\"Co.Westmeath\",\"Co.Louth\"]\n",
    "Province = hel['County'].isin(Leinster)\n",
    " len=hel[Province]"
   ]
  },
  {
   "cell_type": "code",
   "execution_count": 7,
   "id": "29c820f3-f6ec-4a81-9a08-ec26060a3a70",
   "metadata": {},
   "outputs": [
    {
     "ename": "IndentationError",
     "evalue": "unexpected indent (<ipython-input-7-ceb8314a8246>, line 3)",
     "output_type": "error",
     "traceback": [
      "\u001b[1;36m  File \u001b[1;32m\"<ipython-input-7-ceb8314a8246>\"\u001b[1;36m, line \u001b[1;32m3\u001b[0m\n\u001b[1;33m    len=hel[Province]\u001b[0m\n\u001b[1;37m    ^\u001b[0m\n\u001b[1;31mIndentationError\u001b[0m\u001b[1;31m:\u001b[0m unexpected indent\n"
     ]
    }
   ],
   "source": [
    "Leinster =[ \"Co.Wicklow\",\"Co.Dublin\",\"Co.Meath\",\"Co.Westmeath\",\"Co.Louth\"]\n",
    "Province = hel['County'].isin(Leinster)\n",
    "len=hel[Province]\n",
    "print(len.head())"
   ]
  },
  {
   "cell_type": "code",
   "execution_count": 8,
   "id": "6d1c0cbf-ec4a-4461-9417-4f85f924a3aa",
   "metadata": {},
   "outputs": [
    {
     "name": "stdout",
     "output_type": "stream",
     "text": [
      "        Date simone breathone breathtwo simtwo Status result      County  \\\n",
      "0 2019-02-07      8        44        45     21     OK     36  Co.Wicklow   \n",
      "1 2019-04-25      8        40        39     21     OK     32  Co.Wicklow   \n",
      "2 2019-04-28      8         -         -      -   S.IT      -  Co.Wicklow   \n",
      "3 2019-05-14      8       108       107     21     OK     88  Co.Wicklow   \n",
      "4 2019-06-09      8        91        89     21     OK     73  Co.Wicklow   \n",
      "\n",
      "       Time  Age Gender  \n",
      "0  13:36:00   48   Male  \n",
      "1  00:36:00   84   Male  \n",
      "2  02:43:00   75   Male  \n",
      "3  22:51:00   34   Male  \n",
      "4  18:34:00   28   Male  \n"
     ]
    }
   ],
   "source": [
    "Leinster =[ \"Co.Wicklow\",\"Co.Dublin\",\"Co.Meath\",\"Co.Westmeath\",\"Co.Louth\"]\n",
    "Province = hel['County'].isin(Leinster)\n",
    "len=hel[Province]\n",
    "print(len.head())"
   ]
  },
  {
   "cell_type": "code",
   "execution_count": 9,
   "id": "25c18c95-b45d-4772-97b8-0f466073b58c",
   "metadata": {},
   "outputs": [
    {
     "data": {
      "text/plain": [
       "<AxesSubplot:xlabel='Gender', ylabel='Count'>"
      ]
     },
     "execution_count": 9,
     "metadata": {},
     "output_type": "execute_result"
    },
    {
     "data": {
      "image/png": "[encoded data removed]",
      "text/plain": [
       "<Figure size 432x288 with 1 Axes>"
      ]
     },
     "metadata": {
      "needs_background": "light"
     },
     "output_type": "display_data"
    }
   ],
   "source": [
    "sns.histplot(data=len, x='Gender')"
   ]
  },
  {
   "cell_type": "code",
   "execution_count": 12,
   "id": "0fb5fb63-722b-4206-9a9d-cde527c8395b",
   "metadata": {},
   "outputs": [
    {
     "data": {
      "text/plain": [
       "<AxesSubplot:xlabel='Age', ylabel='Count'>"
      ]
     },
     "execution_count": 12,
     "metadata": {},
     "output_type": "execute_result"
    },
    {
     "data": {
      "image/png": "[encoded data removed]",
      "text/plain": [
       "<Figure size 432x288 with 1 Axes>"
      ]
     },
     "metadata": {
      "needs_background": "light"
     },
     "output_type": "display_data"
    }
   ],
   "source": [
    "sns.histplot(data=len, x='Age')"
   ]
  },
  {
   "cell_type": "code",
   "execution_count": 1,
   "id": "9bfcaa95-9741-4c13-9644-f78e57bee6f6",
   "metadata": {},
   "outputs": [
    {
     "ename": "NameError",
     "evalue": "name 'hel' is not defined",
     "output_type": "error",
     "traceback": [
      "\u001b[1;31m---------------------------------------------------------------------------\u001b[0m",
      "\u001b[1;31mNameError\u001b[0m                                 Traceback (most recent call last)",
      "\u001b[1;32m<ipython-input-1-2ae9ce356246>\u001b[0m in \u001b[0;36m<module>\u001b[1;34m\u001b[0m\n\u001b[1;32m----> 1\u001b[1;33m \u001b[0mhel\u001b[0m\u001b[1;33m[\u001b[0m\u001b[1;34m'Month'\u001b[0m\u001b[1;33m]\u001b[0m\u001b[1;33m=\u001b[0m\u001b[0mhel\u001b[0m\u001b[1;33m[\u001b[0m\u001b[1;34m'Date'\u001b[0m\u001b[1;33m]\u001b[0m\u001b[1;33m.\u001b[0m\u001b[0mdt\u001b[0m\u001b[1;33m.\u001b[0m\u001b[0mmonth\u001b[0m\u001b[1;33m.\u001b[0m\u001b[0mname\u001b[0m\u001b[1;33m\u001b[0m\u001b[1;33m\u001b[0m\u001b[0m\n\u001b[0m\u001b[0;32m      2\u001b[0m \u001b[0mprint\u001b[0m\u001b[1;33m(\u001b[0m\u001b[0mhel\u001b[0m\u001b[1;33m.\u001b[0m\u001b[0mhead\u001b[0m\u001b[1;33m(\u001b[0m\u001b[1;33m)\u001b[0m\u001b[1;33m)\u001b[0m\u001b[1;33m\u001b[0m\u001b[1;33m\u001b[0m\u001b[0m\n",
      "\u001b[1;31mNameError\u001b[0m: name 'hel' is not defined"
     ]
    }
   ],
   "source": [
    "len['Month']=len['Date'].dt.month.name\n",
    "print(hel.head())"
   ]
  },
  {
   "cell_type": "code",
   "execution_count": 2,
   "id": "d2749f2c-21f8-4d4d-a732-375c0c60f5c9",
   "metadata": {},
   "outputs": [
    {
     "ename": "TypeError",
     "evalue": "'builtin_function_or_method' object is not subscriptable",
     "output_type": "error",
     "traceback": [
      "\u001b[1;31m---------------------------------------------------------------------------\u001b[0m",
      "\u001b[1;31mTypeError\u001b[0m                                 Traceback (most recent call last)",
      "\u001b[1;32m<ipython-input-2-8a1e9b451ecf>\u001b[0m in \u001b[0;36m<module>\u001b[1;34m\u001b[0m\n\u001b[1;32m----> 1\u001b[1;33m \u001b[0mlen\u001b[0m\u001b[1;33m[\u001b[0m\u001b[1;34m'Month'\u001b[0m\u001b[1;33m]\u001b[0m\u001b[1;33m=\u001b[0m\u001b[0mlen\u001b[0m\u001b[1;33m[\u001b[0m\u001b[1;34m'Date'\u001b[0m\u001b[1;33m]\u001b[0m\u001b[1;33m.\u001b[0m\u001b[0mdt\u001b[0m\u001b[1;33m.\u001b[0m\u001b[0mmonth\u001b[0m\u001b[1;33m.\u001b[0m\u001b[0mname\u001b[0m\u001b[1;33m\u001b[0m\u001b[1;33m\u001b[0m\u001b[0m\n\u001b[0m\u001b[0;32m      2\u001b[0m \u001b[0mprint\u001b[0m\u001b[1;33m(\u001b[0m\u001b[0mlen\u001b[0m\u001b[1;33m.\u001b[0m\u001b[0mhead\u001b[0m\u001b[1;33m(\u001b[0m\u001b[1;33m)\u001b[0m\u001b[1;33m)\u001b[0m\u001b[1;33m\u001b[0m\u001b[1;33m\u001b[0m\u001b[0m\n",
      "\u001b[1;31mTypeError\u001b[0m: 'builtin_function_or_method' object is not subscriptable"
     ]
    }
   ],
   "source": [
    "len['Month']=len['Date'].dt.month.name\n",
    "print(len.head())"
   ]
  },
  {
   "cell_type": "code",
   "execution_count": null,
   "id": "3310e895-5aaf-4dad-b2db-31289ca491f9",
   "metadata": {},
   "outputs": [],
   "source": []
  }
 ],
 "metadata": {
  "kernelspec": {
   "display_name": "Python 3",
   "language": "python",
   "name": "python3"
  },
  "language_info": {
   "codemirror_mode": {
    "name": "ipython",
    "version": 3
   },
   "file_extension": ".py",
   "mimetype": "text/x-python",
   "name": "python",
   "nbconvert_exporter": "python",
   "pygments_lexer": "ipython3",
   "version": "3.8.8"
  }
 },
 "nbformat": 4,
 "nbformat_minor": 5
}
